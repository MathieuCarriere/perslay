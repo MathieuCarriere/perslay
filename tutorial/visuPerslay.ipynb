{
 "cells": [
  {
   "cell_type": "code",
   "execution_count": null,
   "metadata": {},
   "outputs": [],
   "source": [
    "import sys\n",
    "sys.path.append(\"expe/\")\n",
    "import numpy             as np\n",
    "import perslay           as ps\n",
    "import tensorflow        as tf\n",
    "import matplotlib.pyplot as plt\n",
    "from preprocessing  import DiagramPreprocessor, Padding\n",
    "from sklearn.preprocessing      import MinMaxScaler\n",
    "from tensorflow                 import random_uniform_initializer as rui"
   ]
  },
  {
   "cell_type": "markdown",
   "metadata": {},
   "source": [
    "# Input persistence diagram and tensorflow graph"
   ]
  },
  {
   "cell_type": "markdown",
   "metadata": {
    "heading_collapsed": true
   },
   "source": [
    "## Plot and preprocess persistence diagram"
   ]
  },
  {
   "cell_type": "code",
   "execution_count": null,
   "metadata": {
    "hidden": true
   },
   "outputs": [],
   "source": [
    "diag = [np.array([[0.,4.],[1.,2.],[3.,8.],[6.,8.]])]"
   ]
  },
  {
   "cell_type": "code",
   "execution_count": null,
   "metadata": {
    "hidden": true
   },
   "outputs": [],
   "source": [
    "plt.scatter(diag[0][:,0], diag[0][:,1])\n",
    "plt.plot([0.,6.],[0.,6.])\n",
    "plt.show()"
   ]
  },
  {
   "cell_type": "code",
   "execution_count": null,
   "metadata": {
    "hidden": true
   },
   "outputs": [],
   "source": [
    "diag = DiagramPreprocessor(use=True, scalers=[([0,1], MinMaxScaler())]).fit_transform(diag)\n",
    "diag = Padding(use=True).fit_transform(diag)"
   ]
  },
  {
   "cell_type": "code",
   "execution_count": null,
   "metadata": {
    "hidden": true
   },
   "outputs": [],
   "source": [
    "plt.scatter(diag[0][:,0], diag[0][:,1])\n",
    "plt.plot([0.,1.],[0.,1.])\n",
    "plt.show()"
   ]
  },
  {
   "cell_type": "code",
   "execution_count": null,
   "metadata": {
    "hidden": true
   },
   "outputs": [],
   "source": [
    "D = np.stack(diag, 0)"
   ]
  },
  {
   "cell_type": "markdown",
   "metadata": {
    "heading_collapsed": true
   },
   "source": [
    "## Initialize tensorflow graph"
   ]
  },
  {
   "cell_type": "code",
   "execution_count": null,
   "metadata": {
    "hidden": true
   },
   "outputs": [],
   "source": [
    "tf.reset_default_graph()"
   ]
  },
  {
   "cell_type": "code",
   "execution_count": null,
   "metadata": {
    "hidden": true
   },
   "outputs": [],
   "source": [
    "diagram = tf.placeholder(tf.float32, shape=D.shape)\n",
    "feed    = {diagram: D}"
   ]
  },
  {
   "cell_type": "code",
   "execution_count": null,
   "metadata": {
    "hidden": true
   },
   "outputs": [],
   "source": [
    "perslayParameters = {}"
   ]
  },
  {
   "cell_type": "markdown",
   "metadata": {},
   "source": [
    "# Persistence weight and permutation invariant operation"
   ]
  },
  {
   "cell_type": "markdown",
   "metadata": {
    "heading_collapsed": true
   },
   "source": [
    "## Choose persistence weights"
   ]
  },
  {
   "cell_type": "code",
   "execution_count": null,
   "metadata": {
    "hidden": true
   },
   "outputs": [],
   "source": [
    "perslayParameters[\"persistence_weight\"]  = \"linear\"\n",
    "perslayParameters[\"coeff_init\"]          = rui(1.0, 1.0)\n",
    "perslayParameters[\"coeff_const\"]         = False"
   ]
  },
  {
   "cell_type": "code",
   "execution_count": null,
   "metadata": {
    "hidden": true
   },
   "outputs": [],
   "source": [
    "perslayParameters[\"persistence_weight\"]  = \"grid\"\n",
    "perslayParameters[\"grid_size\"]           = [100,100]\n",
    "epsilon = .001\n",
    "perslayParameters[\"grid_bnds\"]           = ((0. - epsilon, 1. + epsilon), (0. - epsilon, 1. + epsilon))\n",
    "perslayParameters[\"grid_init\"]           = np.tile(np.arange(0.,100.,1, dtype=np.float32)[np.newaxis,:], [100,1])\n",
    "perslayParameters[\"grid_const\"]          = True"
   ]
  },
  {
   "cell_type": "code",
   "execution_count": null,
   "metadata": {
    "hidden": true
   },
   "outputs": [],
   "source": [
    "perslayParameters[\"persistence_weight\"]  = \"gmix\"\n",
    "perslayParameters[\"gmix_num\"]            = 3\n",
    "perslayParameters[\"gmix_m_init\"]         = rui(0., 1.)\n",
    "perslayParameters[\"gmix_m_const\"]        = False\n",
    "perslayParameters[\"gmix_v_init\"]         = rui(5, 5)\n",
    "perslayParameters[\"gmix_v_const\"]        = False"
   ]
  },
  {
   "cell_type": "code",
   "execution_count": null,
   "metadata": {
    "hidden": true
   },
   "outputs": [],
   "source": [
    "perslayParameters[\"persistence_weight\"]  = None"
   ]
  },
  {
   "cell_type": "markdown",
   "metadata": {
    "heading_collapsed": true
   },
   "source": [
    "## Choose permutation invariant operation"
   ]
  },
  {
   "cell_type": "code",
   "execution_count": null,
   "metadata": {
    "hidden": true
   },
   "outputs": [],
   "source": [
    "perslayParameters[\"perm_op\"] = \"sum\""
   ]
  },
  {
   "cell_type": "code",
   "execution_count": null,
   "metadata": {
    "hidden": true
   },
   "outputs": [],
   "source": [
    "perslayParameters[\"perm_op\"] = \"topk\"\n",
    "perslayParameters[\"keep\"]    = 3"
   ]
  },
  {
   "cell_type": "code",
   "execution_count": null,
   "metadata": {
    "hidden": true
   },
   "outputs": [],
   "source": [
    "perslayParameters[\"perm_op\"] = \"max\""
   ]
  },
  {
   "cell_type": "code",
   "execution_count": null,
   "metadata": {
    "hidden": true
   },
   "outputs": [],
   "source": [
    "perslayParameters[\"perm_op\"] = \"mean\""
   ]
  },
  {
   "cell_type": "markdown",
   "metadata": {},
   "source": [
    "# Persistence representation"
   ]
  },
  {
   "cell_type": "markdown",
   "metadata": {
    "heading_collapsed": true
   },
   "source": [
    "## Persistence image"
   ]
  },
  {
   "cell_type": "code",
   "execution_count": null,
   "metadata": {
    "hidden": true
   },
   "outputs": [],
   "source": [
    "perslayParameters[\"layer\"]          = \"im\"\n",
    "perslayParameters[\"image_size\"]     = (100, 100)\n",
    "epsilon = .001\n",
    "perslayParameters[\"image_bnds\"]     = ((-.5-epsilon, 1.5+epsilon), (-.5-epsilon, 1.5+epsilon))\n",
    "perslayParameters[\"variance_init\"]  = rui(10., 10.) \n",
    "perslayParameters[\"variance_const\"] = False\n",
    "perslayParameters[\"cv_layers\"]      = []"
   ]
  },
  {
   "cell_type": "code",
   "execution_count": null,
   "metadata": {
    "hidden": true
   },
   "outputs": [],
   "source": [
    "list_v = []\n",
    "ps.perslay_channel(output=list_v, name=\"perslay\", diag=diagram, **perslayParameters)\n",
    "vector = tf.concat(list_v, 1)"
   ]
  },
  {
   "cell_type": "code",
   "execution_count": null,
   "metadata": {
    "hidden": true
   },
   "outputs": [],
   "source": [
    "init = tf.global_variables_initializer()\n",
    "with tf.Session() as sess:\n",
    "    sess.run(init)\n",
    "    \n",
    "    # Plot representation\n",
    "    V = vector.eval(feed_dict=feed)[0,:]\n",
    "    V = np.flip(np.reshape(V, [int(np.sqrt(V.shape[0])), int(np.sqrt(V.shape[0]))]), 0)\n",
    "    plt.figure()\n",
    "    plt.imshow(V, cmap=\"Purples\")\n",
    "    cb = plt.colorbar()\n",
    "    cb.ax.tick_params(labelsize=14)\n",
    "    plt.show()\n",
    "    \n",
    "    # Plot weight\n",
    "    if perslayParameters[\"persistence_weight\"] == \"grid\":\n",
    "        W = sess.run(tf.get_collection(tf.GraphKeys.TRAINABLE_VARIABLES,\"perslay-grid_pweight/W\")[0]).T\n",
    "        weights = np.flip(W, 0)\n",
    "        plt.figure()\n",
    "        plt.imshow(weights, cmap=\"Purples\", zorder=1)\n",
    "        ((xm,xM),(ym,yM)) = perslayParameters[\"grid_bnds\"]\n",
    "        [xs, ys] = perslayParameters[\"grid_size\"]\n",
    "        plt.scatter([int(xs*(x-xm)/(xM-xm)) for x in diag[0][:,0]], \n",
    "                    [ys-int(ys*(y-ym)/(yM-ym)) for y in diag[0][:,1]], \n",
    "                    s=10, color=\"red\", zorder=2)\n",
    "        plt.show()\n",
    "        \n",
    "    if perslayParameters[\"persistence_weight\"] == \"gmix\":\n",
    "        means = sess.run(tf.get_collection(tf.GraphKeys.TRAINABLE_VARIABLES, \"perslay-gmix_pweight/M\")[0])\n",
    "        varis = sess.run(tf.get_collection(tf.GraphKeys.TRAINABLE_VARIABLES, \"perslay-gmix_pweight/V\")[0])\n",
    "        x = np.arange(-.5, 1.5, .001)\n",
    "        y = np.arange(-.5, 1.5, .001)\n",
    "        xx, yy = np.meshgrid(x, y)\n",
    "        z = np.zeros(xx.shape)\n",
    "        for idx_g in range(means.shape[3]):\n",
    "            z += np.exp(-((xx-means[0,0,0,idx_g])**2 * (varis[0,0,0,idx_g])**2 \n",
    "                        + (yy-means[0,0,1,idx_g])**2 * (varis[0,0,1,idx_g])**2 ))\n",
    "        plt.contourf(xx, yy, z)\n",
    "        plt.scatter(diag[0][:,0], diag[0][:,1], s=50, color=\"red\")\n",
    "        plt.show()"
   ]
  },
  {
   "cell_type": "markdown",
   "metadata": {
    "heading_collapsed": true
   },
   "source": [
    "## Persistence landscape / entropy / Betti curve"
   ]
  },
  {
   "cell_type": "code",
   "execution_count": null,
   "metadata": {
    "hidden": true
   },
   "outputs": [],
   "source": [
    "perslayParameters[\"layer\"]          = \"ls\"\n",
    "#perslayParameters[\"layer\"]          = \"bc\"\n",
    "#perslayParameters[\"layer\"]          = \"en\""
   ]
  },
  {
   "cell_type": "code",
   "execution_count": null,
   "metadata": {
    "hidden": true
   },
   "outputs": [],
   "source": [
    "perslayParameters[\"num_samples\"]    = 3000\n",
    "perslayParameters[\"sample_init\"]    = np.array([[ np.arange(-1.,2.,.001) ]], dtype=np.float32)\n",
    "perslayParameters[\"sample_const\"]   = True\n",
    "perslayParameters[\"theta\"]          = 100 # used only if layer is \"bc\" or \"en\"\n",
    "perslayParameters[\"fc_layers\"]      = []"
   ]
  },
  {
   "cell_type": "code",
   "execution_count": null,
   "metadata": {
    "hidden": true
   },
   "outputs": [],
   "source": [
    "list_v = []\n",
    "ps.perslay_channel(output=list_v, name=\"perslay\", diag=diagram, **perslayParameters)\n",
    "vector = tf.concat(list_v, 1)"
   ]
  },
  {
   "cell_type": "code",
   "execution_count": null,
   "metadata": {
    "hidden": true
   },
   "outputs": [],
   "source": [
    "init = tf.global_variables_initializer()\n",
    "with tf.Session() as sess:\n",
    "    sess.run(init)\n",
    "    \n",
    "    #Plot representation\n",
    "    V = vector.eval(feed_dict=feed)[0,:]\n",
    "    plt.figure()\n",
    "    if perslayParameters[\"perm_op\"] == \"topk\":\n",
    "        V = np.reshape(V, [-1, perslayParameters[\"keep\"]])\n",
    "        for k in range(perslayParameters[\"keep\"]):\n",
    "            plt.plot(V[:,k], linewidth=5.0)\n",
    "    else:\n",
    "        plt.plot(V, linewidth=5.0)\n",
    "    plt.show()\n",
    "    \n",
    "    # Plot weight\n",
    "    if perslayParameters[\"persistence_weight\"] == \"grid\":\n",
    "        W = sess.run(tf.get_collection(tf.GraphKeys.TRAINABLE_VARIABLES,\"perslay-grid_pweight/W\")[0]).T\n",
    "        weights = np.flip(W, 0)\n",
    "        plt.figure()\n",
    "        plt.imshow(weights, cmap=\"Purples\", zorder=1)\n",
    "        ((xm,xM),(ym,yM)) = perslayParameters[\"grid_bnds\"]\n",
    "        [xs, ys] = perslayParameters[\"grid_size\"]\n",
    "        plt.scatter([int(xs*(x-xm)/(xM-xm)) for x in diag[0][:,0]], \n",
    "                    [ys-int(ys*(y-ym)/(yM-ym)) for y in diag[0][:,1]], \n",
    "                    s=10, color=\"red\", zorder=2)\n",
    "        plt.show()\n",
    "        \n",
    "    if perslayParameters[\"persistence_weight\"] == \"gmix\":\n",
    "        means = sess.run(tf.get_collection(tf.GraphKeys.TRAINABLE_VARIABLES, \"perslay-gmix_pweight/M\")[0])\n",
    "        varis = sess.run(tf.get_collection(tf.GraphKeys.TRAINABLE_VARIABLES, \"perslay-gmix_pweight/V\")[0])\n",
    "        x = np.arange(-.5, 1.5, .001)\n",
    "        y = np.arange(-.5, 1.5, .001)\n",
    "        xx, yy = np.meshgrid(x, y)\n",
    "        z = np.zeros(xx.shape)\n",
    "        for idx_g in range(means.shape[3]):\n",
    "            z += np.exp(-((xx-means[0,0,0,idx_g])**2 * (varis[0,0,0,idx_g])**2 \n",
    "                        + (yy-means[0,0,1,idx_g])**2 * (varis[0,0,1,idx_g])**2 ))\n",
    "        plt.contourf(xx, yy, z)\n",
    "        plt.scatter(diag[0][:,0], diag[0][:,1], s=100)\n",
    "        plt.show()"
   ]
  },
  {
   "cell_type": "code",
   "execution_count": null,
   "metadata": {
    "hidden": true
   },
   "outputs": [],
   "source": []
  }
 ],
 "metadata": {
  "kernelspec": {
   "display_name": "Python 3",
   "language": "python",
   "name": "python3"
  },
  "language_info": {
   "codemirror_mode": {
    "name": "ipython",
    "version": 3
   },
   "file_extension": ".py",
   "mimetype": "text/x-python",
   "name": "python",
   "nbconvert_exporter": "python",
   "pygments_lexer": "ipython3",
   "version": "3.6.7"
  },
  "toc": {
   "base_numbering": 1,
   "nav_menu": {},
   "number_sections": true,
   "sideBar": true,
   "skip_h1_title": false,
   "title_cell": "Table of Contents",
   "title_sidebar": "Contents",
   "toc_cell": false,
   "toc_position": {},
   "toc_section_display": true,
   "toc_window_display": true
  }
 },
 "nbformat": 4,
 "nbformat_minor": 2
}
